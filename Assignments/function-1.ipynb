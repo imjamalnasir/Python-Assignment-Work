{
 "cells": [
  {
   "cell_type": "code",
   "execution_count": 1,
   "id": "63d4c601-2c4f-44b8-bc8e-0c704e6d289b",
   "metadata": {},
   "outputs": [],
   "source": [
    "# Write a Python function to find the maximum of three numbers. "
   ]
  },
  {
   "cell_type": "code",
   "execution_count": 5,
   "id": "30df4516-70e2-48fd-9fe4-b4359f2da8dc",
   "metadata": {},
   "outputs": [
    {
     "name": "stdout",
     "output_type": "stream",
     "text": [
      "The maximum is 20\n"
     ]
    }
   ],
   "source": [
    "def find_max_of_three(a, b, c):\n",
    "\n",
    "    if a >= b and a >= c:\n",
    "        return a\n",
    "    elif b >= a and b >= c:\n",
    "        return b\n",
    "    else:\n",
    "        return c\n",
    "\n",
    "\n",
    "num1 = 10\n",
    "num2 = 20\n",
    "num3 = 15\n",
    "print(f\"The maximum is {find_max_of_three(num1, num2, num3)}\")"
   ]
  },
  {
   "cell_type": "code",
   "execution_count": 11,
   "id": "7b7129ed-ff1e-4c22-90d3-d8446ac1d3ec",
   "metadata": {},
   "outputs": [],
   "source": [
    "# 2. Write a Python function to sum all the numbers in a list. \n",
    "# Sample List : (8, 2, 3, 0, 7) \n",
    "# Expected Output : 20 "
   ]
  },
  {
   "cell_type": "code",
   "execution_count": 7,
   "id": "90f9b6fa-02e7-4dfd-b0d2-afbc00552590",
   "metadata": {},
   "outputs": [
    {
     "name": "stdout",
     "output_type": "stream",
     "text": [
      "Expected Output: 20\n"
     ]
    }
   ],
   "source": [
    "def sum_numbers(numbers):\n",
    "    total = 0\n",
    "    for num in numbers:\n",
    "        total += num\n",
    "    return total\n",
    "\n",
    "\n",
    "sample_list = (8, 2, 3, 0, 7)\n",
    "\n",
    "result = sum_numbers(sample_list)\n",
    "\n",
    "print(\"Expected Output:\", result)"
   ]
  },
  {
   "cell_type": "code",
   "execution_count": null,
   "id": "b4173f3d-0160-469a-805d-917ea519b88a",
   "metadata": {},
   "outputs": [],
   "source": [
    "#  Write a Python function to multiply all the numbers in a list. \n",
    "# Sample List : (8, 2, 3, -1, 7) \n",
    "# Expected Output : -336"
   ]
  },
  {
   "cell_type": "code",
   "execution_count": 17,
   "id": "ca827b13-f201-4124-9595-d64ecee077e3",
   "metadata": {},
   "outputs": [
    {
     "name": "stdout",
     "output_type": "stream",
     "text": [
      "Expected Output: -336\n"
     ]
    }
   ],
   "source": [
    "def multiply_numbers(numbers):\n",
    "    result = 1\n",
    "    for num in numbers:\n",
    "        result *= num\n",
    "    return result\n",
    "\n",
    "sample_list = (8, 2, 3, -1, 7)\n",
    "output = multiply_numbers(sample_list)\n",
    "\n",
    "print(\"Expected Output:\", output)"
   ]
  },
  {
   "cell_type": "code",
   "execution_count": null,
   "id": "8c574bc8-a6e1-4ec0-8359-e0d64113881b",
   "metadata": {},
   "outputs": [],
   "source": []
  }
 ],
 "metadata": {
  "kernelspec": {
   "display_name": "Python 3 (ipykernel)",
   "language": "python",
   "name": "python3"
  },
  "language_info": {
   "codemirror_mode": {
    "name": "ipython",
    "version": 3
   },
   "file_extension": ".py",
   "mimetype": "text/x-python",
   "name": "python",
   "nbconvert_exporter": "python",
   "pygments_lexer": "ipython3",
   "version": "3.12.7"
  }
 },
 "nbformat": 4,
 "nbformat_minor": 5
}
