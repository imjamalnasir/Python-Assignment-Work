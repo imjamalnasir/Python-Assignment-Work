{
 "cells": [
  {
   "cell_type": "code",
   "execution_count": 3,
   "id": "e0335acf-9bca-4507-95a5-e0c99ba0914b",
   "metadata": {},
   "outputs": [
    {
     "name": "stdout",
     "output_type": "stream",
     "text": [
      "Account created successfully for Alice.\n",
      "Deposited 500 to Alice's account.\n",
      "Withdrew 200 from Alice's account.\n",
      "Current balance for Alice: 1300\n",
      "Transaction statement for Alice:\n",
      "Account created with initial balance: 1000\n",
      "Deposited: 500\n",
      "Withdrew: 200\n",
      "Account created successfully for Zara.\n",
      "Deposited 500 to Zara's account.\n",
      "Withdrew 200 from Zara's account.\n",
      "Current balance for Zara: 2300\n",
      "Transaction statement for Zara:\n",
      "Account created with initial balance: 2000\n",
      "Deposited: 500\n",
      "Withdrew: 200\n"
     ]
    }
   ],
   "source": [
    "class BankingSystem:\n",
    "    def __init__(self):\n",
    "        self.accounts = {}\n",
    "\n",
    "    def create_account(self, name, initial_balance):\n",
    "        if name in self.accounts:\n",
    "            return f\"Account for {name} already exists.\"\n",
    "        if initial_balance < 0:\n",
    "            return \"Initial balance cannot be negative.\"\n",
    "        self.accounts[name] = {\n",
    "            'balance': initial_balance,\n",
    "            'transactions': [f\"Account created with initial balance: {initial_balance}\"]\n",
    "        }\n",
    "        return f\"Account created successfully for {name}.\"\n",
    "\n",
    "    def deposit(self, name, amount):\n",
    "        if name not in self.accounts:\n",
    "            return f\"Account for {name} does not exist.\"\n",
    "        if amount <= 0:\n",
    "            return \"Deposit amount must be positive.\"\n",
    "        self.accounts[name]['balance'] += amount\n",
    "        self.accounts[name]['transactions'].append(f\"Deposited: {amount}\")\n",
    "        return f\"Deposited {amount} to {name}'s account.\"\n",
    "\n",
    "    def withdraw(self, name, amount):\n",
    "        if name not in self.accounts:\n",
    "            return f\"Account for {name} does not exist.\"\n",
    "        if amount <= 0:\n",
    "            return \"Withdrawal amount must be positive.\"\n",
    "        if amount > self.accounts[name]['balance']:\n",
    "            return \"Insufficient balance.\"\n",
    "        self.accounts[name]['balance'] -= amount\n",
    "        self.accounts[name]['transactions'].append(f\"Withdrew: {amount}\")\n",
    "        return f\"Withdrew {amount} from {name}'s account.\"\n",
    "\n",
    "    def check_balance(self, name):\n",
    "        if name not in self.accounts:\n",
    "            return f\"Account for {name} does not exist.\"\n",
    "        return f\"Current balance for {name}: {self.accounts[name]['balance']}\"\n",
    "\n",
    "    def print_statement(self, name):\n",
    "        if name not in self.accounts:\n",
    "            return f\"Account for {name} does not exist.\"\n",
    "        statement = f\"Transaction statement for {name}:\\n\"\n",
    "        statement += \"\\n\".join(self.accounts[name]['transactions'])\n",
    "        return statement\n",
    "\n",
    "# Example usage\n",
    "if __name__ == \"__main__\":\n",
    "    bank = BankingSystem()\n",
    "\n",
    "    print(bank.create_account(\"Alice\", 1000))\n",
    "    print(bank.deposit(\"Alice\", 500))\n",
    "    print(bank.withdraw(\"Alice\", 200))\n",
    "    print(bank.check_balance(\"Alice\"))\n",
    "    print(bank.print_statement(\"Alice\"))\n",
    "\n",
    "    print(bank.create_account(\"Zara\", 2000))\n",
    "    print(bank.deposit(\"Zara\", 500))\n",
    "    print(bank.withdraw(\"Zara\", 200))\n",
    "    print(bank.check_balance(\"Zara\"))\n",
    "    print(bank.print_statement(\"Zara\"))\n"
   ]
  },
  {
   "cell_type": "code",
   "execution_count": null,
   "id": "4e2a9f55-3386-4af4-b5f4-047618259321",
   "metadata": {},
   "outputs": [],
   "source": []
  }
 ],
 "metadata": {
  "kernelspec": {
   "display_name": "Python 3 (ipykernel)",
   "language": "python",
   "name": "python3"
  },
  "language_info": {
   "codemirror_mode": {
    "name": "ipython",
    "version": 3
   },
   "file_extension": ".py",
   "mimetype": "text/x-python",
   "name": "python",
   "nbconvert_exporter": "python",
   "pygments_lexer": "ipython3",
   "version": "3.12.7"
  }
 },
 "nbformat": 4,
 "nbformat_minor": 5
}
